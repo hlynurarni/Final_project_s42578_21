{
 "cells": [
  {
   "cell_type": "code",
   "execution_count": 6,
   "id": "dressed-easter",
   "metadata": {},
   "outputs": [],
   "source": [
    "import pandas as pd\n",
    "import pickle\n",
    "import csv"
   ]
  },
  {
   "cell_type": "markdown",
   "id": "absent-hardware",
   "metadata": {},
   "source": [
    "### Merge all csv files of reviews together:"
   ]
  },
  {
   "cell_type": "code",
   "execution_count": 8,
   "id": "signed-opinion",
   "metadata": {},
   "outputs": [],
   "source": [
    "reader = csv.reader(open(\"reviews1.csv\"))\n",
    "\n",
    "f = open(\"reviews_all.csv\", \"w\")\n",
    "writer = csv.writer(f)\n",
    "\n",
    "for row in reader:\n",
    "    writer.writerow(row)\n",
    "\n",
    "for x in range(2,12):\n",
    "    file = f\"reviews{x}.csv\"\n",
    "    reader = csv.reader(open(file))\n",
    "    next(reader)\n",
    "    for row in reader:\n",
    "        writer.writerow(row)\n",
    "f.close()"
   ]
  },
  {
   "cell_type": "code",
   "execution_count": 7,
   "id": "successful-theta",
   "metadata": {},
   "outputs": [
    {
     "data": {
      "text/html": [
       "<div>\n",
       "<style scoped>\n",
       "    .dataframe tbody tr th:only-of-type {\n",
       "        vertical-align: middle;\n",
       "    }\n",
       "\n",
       "    .dataframe tbody tr th {\n",
       "        vertical-align: top;\n",
       "    }\n",
       "\n",
       "    .dataframe thead th {\n",
       "        text-align: right;\n",
       "    }\n",
       "</style>\n",
       "<table border=\"1\" class=\"dataframe\">\n",
       "  <thead>\n",
       "    <tr style=\"text-align: right;\">\n",
       "      <th></th>\n",
       "      <th>storeName</th>\n",
       "      <th>reviewerUsername</th>\n",
       "      <th>ratingDate</th>\n",
       "      <th>reviewHeader</th>\n",
       "      <th>reviewText</th>\n",
       "      <th>rating</th>\n",
       "    </tr>\n",
       "  </thead>\n",
       "  <tbody>\n",
       "    <tr>\n",
       "      <th>0</th>\n",
       "      <td>Maple Casual Dining</td>\n",
       "      <td>918emmaf</td>\n",
       "      <td>December 5, 2020</td>\n",
       "      <td>Exquisite</td>\n",
       "      <td>We visited Maple in Friday night and had a won...</td>\n",
       "      <td>5</td>\n",
       "    </tr>\n",
       "    <tr>\n",
       "      <th>1</th>\n",
       "      <td>Maple Casual Dining</td>\n",
       "      <td>hildurj2016</td>\n",
       "      <td>November 19, 2020</td>\n",
       "      <td>Perfect wedding dinner</td>\n",
       "      <td>Excellent food, drinks and service!! Me and my...</td>\n",
       "      <td>5</td>\n",
       "    </tr>\n",
       "    <tr>\n",
       "      <th>2</th>\n",
       "      <td>Maple Casual Dining</td>\n",
       "      <td>Judy B</td>\n",
       "      <td>October 27, 2020</td>\n",
       "      <td>Beautifully Presented Food</td>\n",
       "      <td>I visited this restaurant on my first ever vis...</td>\n",
       "      <td>5</td>\n",
       "    </tr>\n",
       "    <tr>\n",
       "      <th>3</th>\n",
       "      <td>Maple Casual Dining</td>\n",
       "      <td>EldBjoern</td>\n",
       "      <td>October 18, 2020</td>\n",
       "      <td>Very good food and very pleasant people</td>\n",
       "      <td>We ate dinner in their restaurant. The waiter ...</td>\n",
       "      <td>5</td>\n",
       "    </tr>\n",
       "    <tr>\n",
       "      <th>4</th>\n",
       "      <td>Maple Casual Dining</td>\n",
       "      <td>MacondoExpresss</td>\n",
       "      <td>October 13, 2020</td>\n",
       "      <td>A lovely birthday dinner</td>\n",
       "      <td>Visited as a couple to celebrate my birthday. ...</td>\n",
       "      <td>5</td>\n",
       "    </tr>\n",
       "  </tbody>\n",
       "</table>\n",
       "</div>"
      ],
      "text/plain": [
       "             storeName reviewerUsername         ratingDate  \\\n",
       "0  Maple Casual Dining         918emmaf   December 5, 2020   \n",
       "1  Maple Casual Dining      hildurj2016  November 19, 2020   \n",
       "2  Maple Casual Dining           Judy B   October 27, 2020   \n",
       "3  Maple Casual Dining        EldBjoern   October 18, 2020   \n",
       "4  Maple Casual Dining  MacondoExpresss   October 13, 2020   \n",
       "\n",
       "                              reviewHeader  \\\n",
       "0                                Exquisite   \n",
       "1                   Perfect wedding dinner   \n",
       "2               Beautifully Presented Food   \n",
       "3  Very good food and very pleasant people   \n",
       "4                 A lovely birthday dinner   \n",
       "\n",
       "                                          reviewText  rating  \n",
       "0  We visited Maple in Friday night and had a won...       5  \n",
       "1  Excellent food, drinks and service!! Me and my...       5  \n",
       "2  I visited this restaurant on my first ever vis...       5  \n",
       "3  We ate dinner in their restaurant. The waiter ...       5  \n",
       "4  Visited as a couple to celebrate my birthday. ...       5  "
      ]
     },
     "execution_count": 7,
     "metadata": {},
     "output_type": "execute_result"
    }
   ],
   "source": [
    "df = pd.read_csv(\"all_reviews.csv\")\n",
    "df.head()"
   ]
  },
  {
   "cell_type": "code",
   "execution_count": 19,
   "id": "discrete-briefs",
   "metadata": {},
   "outputs": [
    {
     "data": {
      "text/plain": [
       "2.0122293320621183"
      ]
     },
     "execution_count": 19,
     "metadata": {},
     "output_type": "execute_result"
    }
   ],
   "source": [
    "temp = df['reviewerUsername'].value_counts()\n",
    "# temp[:100].sort_values(ascending=False)\n",
    "sum(temp)/len(temp)"
   ]
  },
  {
   "cell_type": "code",
   "execution_count": 19,
   "id": "cleared-shepherd",
   "metadata": {},
   "outputs": [
    {
     "name": "stdout",
     "output_type": "stream",
     "text": [
      "54541\n"
     ]
    }
   ],
   "source": [
    "all_reviewers = list(df.reviewerUsername.unique())\n",
    "print(len(all_reviewers))"
   ]
  },
  {
   "cell_type": "code",
   "execution_count": 20,
   "id": "practical-pound",
   "metadata": {},
   "outputs": [],
   "source": [
    "# Save all the reviewers we want data about\n",
    "with open('all_reviewers.txt', 'wb') as f:\n",
    "    pickle.dump(all_reviewers, f)"
   ]
  },
  {
   "cell_type": "markdown",
   "id": "deadly-heart",
   "metadata": {},
   "source": [
    "### Merge all csv files of reviews together:"
   ]
  },
  {
   "cell_type": "code",
   "execution_count": 5,
   "id": "proof-masters",
   "metadata": {},
   "outputs": [],
   "source": [
    "import csv\n",
    "reader = csv.reader(open(\"reviewer_info/reviewerInfo_1.csv\"))\n",
    "\n",
    "f = open(\"all_reviewer_info.csv\", \"w\")\n",
    "writer = csv.writer(f)\n",
    "\n",
    "for row in reader:\n",
    "    writer.writerow(row)\n",
    "\n",
    "for x in range(2,6):\n",
    "    file = f\"reviewer_info/reviewerInfo_{x}.csv\"\n",
    "    reader = csv.reader(open(file))\n",
    "    next(reader)\n",
    "    for row in reader:\n",
    "        writer.writerow(row)\n",
    "f.close()"
   ]
  }
 ],
 "metadata": {
  "kernelspec": {
   "display_name": "Python 3",
   "language": "python",
   "name": "python3"
  },
  "language_info": {
   "codemirror_mode": {
    "name": "ipython",
    "version": 3
   },
   "file_extension": ".py",
   "mimetype": "text/x-python",
   "name": "python",
   "nbconvert_exporter": "python",
   "pygments_lexer": "ipython3",
   "version": "3.7.7"
  }
 },
 "nbformat": 4,
 "nbformat_minor": 5
}
